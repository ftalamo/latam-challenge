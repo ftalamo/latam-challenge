{
 "cells": [
  {
   "cell_type": "code",
   "execution_count": null,
   "id": "initial_id",
   "metadata": {
    "collapsed": true,
    "is_executing": true
   },
   "outputs": [],
   "source": [
    "import requests\n",
    "import aiohttp\n",
    "\n",
    "\n",
    "class Getdata:\n",
    "    def __init__(self, file_id, destination):\n",
    "        self.file_id = file_id\n",
    "        self.destination = destination\n",
    "\n",
    "    async def download_file(self):\n",
    "        url = f\"https://drive.google.com/uc?export=download&id={self.file_id}\"\n",
    "        print(url)\n",
    "        CHUNK_SIZE = 1024*1024\n",
    "        async with aiohttp.ClientSession() as session:\n",
    "            async with session.get(url, timeout=None) as response:\n",
    "                # Verificar el código de estado de la respuesta\n",
    "                if response.status != 200:\n",
    "                    print(f\"Error al descargar el archivo. Código de estado: {response.status}\")\n",
    "                else:\n",
    "                    print(response.status)\n",
    "                    print('iniciando descarga')\n",
    "                    return\n",
    "\n",
    "                # Descargar el archivo en bloques y escribirlos al destino\n",
    "                async with open(self.destination, 'wb') as f:\n",
    "                    while True:\n",
    "                        chunk = await response.content.read(CHUNK_SIZE)\n",
    "                        if not chunk:\n",
    "                            break\n",
    "                        await f.write(chunk)\n",
    "\n",
    "# Descarga el archivo\n"
   ]
  },
  {
   "cell_type": "code",
   "outputs": [],
   "source": [],
   "metadata": {
    "collapsed": false
   },
   "id": "47c22df0d4d6c82d"
  }
 ],
 "metadata": {
  "kernelspec": {
   "display_name": "Python 3",
   "language": "python",
   "name": "python3"
  },
  "language_info": {
   "codemirror_mode": {
    "name": "ipython",
    "version": 2
   },
   "file_extension": ".py",
   "mimetype": "text/x-python",
   "name": "python",
   "nbconvert_exporter": "python",
   "pygments_lexer": "ipython2",
   "version": "2.7.6"
  }
 },
 "nbformat": 4,
 "nbformat_minor": 5
}
